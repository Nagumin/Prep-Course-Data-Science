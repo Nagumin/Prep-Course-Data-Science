{
 "cells": [
  {
   "cell_type": "code",
   "execution_count": 1,
   "metadata": {},
   "outputs": [],
   "source": [
    "a=5\n",
    "b=7"
   ]
  },
  {
   "cell_type": "code",
   "execution_count": 2,
   "metadata": {},
   "outputs": [
    {
     "name": "stdout",
     "output_type": "stream",
     "text": [
      "a es menor que b\n"
     ]
    }
   ],
   "source": [
    "if a<b:\n",
    "    print(\"a es menor que b\")\n",
    "elif a>b:\n",
    "    print(\"a es mayor que b\")\n",
    "else:\n",
    "    print(\"a y b son iguales\")"
   ]
  },
  {
   "cell_type": "code",
   "execution_count": 4,
   "metadata": {},
   "outputs": [
    {
     "name": "stdout",
     "output_type": "stream",
     "text": [
      "x es positivo\n"
     ]
    }
   ],
   "source": [
    "x=10\n",
    "\n",
    "if x>0:\n",
    "    print(\"x es positivo\")"
   ]
  },
  {
   "cell_type": "code",
   "execution_count": 6,
   "metadata": {},
   "outputs": [
    {
     "name": "stdout",
     "output_type": "stream",
     "text": [
      "x es positivo\n"
     ]
    }
   ],
   "source": [
    "x=10\n",
    "if x>0:\n",
    "    print(\"x es positivo\")"
   ]
  },
  {
   "cell_type": "code",
   "execution_count": 8,
   "metadata": {},
   "outputs": [
    {
     "name": "stdout",
     "output_type": "stream",
     "text": [
      "Soy igual\n"
     ]
    }
   ],
   "source": [
    "num=10\n",
    "if num>10:\n",
    "    print(\"Soy mayor\")\n",
    "elif num<10:\n",
    "    print(\"Soy menor\")\n",
    "else:\n",
    "    print(\"Soy igual\")"
   ]
  },
  {
   "cell_type": "code",
   "execution_count": 9,
   "metadata": {},
   "outputs": [
    {
     "name": "stdout",
     "output_type": "stream",
     "text": [
      "Soy menor que 10 y como estoy primero me voy a ejecutar\n"
     ]
    }
   ],
   "source": [
    "num=5\n",
    "if num>10:\n",
    "    print(\"Soy mayor\")\n",
    "elif num<10:\n",
    "    print(\"Soy menor que 10 y como estoy primero me voy a ejecutar\")\n",
    "elif num<7:\n",
    "    print(\"Soy también menor\")\n",
    "else:\n",
    "    print(\"Soy igual\")"
   ]
  }
 ],
 "metadata": {
  "kernelspec": {
   "display_name": "Python 3",
   "language": "python",
   "name": "python3"
  },
  "language_info": {
   "codemirror_mode": {
    "name": "ipython",
    "version": 3
   },
   "file_extension": ".py",
   "mimetype": "text/x-python",
   "name": "python",
   "nbconvert_exporter": "python",
   "pygments_lexer": "ipython3",
   "version": "3.12.4"
  }
 },
 "nbformat": 4,
 "nbformat_minor": 2
}
